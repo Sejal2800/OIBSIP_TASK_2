{
 "cells": [
  {
   "cell_type": "markdown",
   "id": "8ca6b73d",
   "metadata": {},
   "source": [
    "# Unemployment Analysis using Python"
   ]
  },
  {
   "cell_type": "markdown",
   "id": "0172d049",
   "metadata": {},
   "source": [
    "#### 1. Importing necessary modules "
   ]
  },
  {
   "cell_type": "code",
   "execution_count": null,
   "id": "0fc693b7",
   "metadata": {},
   "outputs": [],
   "source": [
    "import pandas as pd\n",
    "import numpy as np\n",
    "import matplotlib.pyplot as plt\n",
    "import seaborn as sns\n",
    "import plotly.express as px"
   ]
  },
  {
   "cell_type": "markdown",
   "id": "7af75047",
   "metadata": {},
   "source": [
    "#### 2. Importing datasets "
   ]
  },
  {
   "cell_type": "code",
   "execution_count": null,
   "id": "95f2807b",
   "metadata": {},
   "outputs": [],
   "source": [
    "UA = pd.read_csv(\"Unemployment in India.csv\")\n",
    "UA = pd.read_csv(\"Unemployment_Rate_upto_11_2020.csv\")\n",
    "UA.head()"
   ]
  },
  {
   "cell_type": "markdown",
   "id": "5cf8090e",
   "metadata": {},
   "source": [
    "#### 3. Analyzing dataset"
   ]
  },
  {
   "cell_type": "code",
   "execution_count": null,
   "id": "296e4be1",
   "metadata": {},
   "outputs": [],
   "source": [
    "#Describing dataset\n",
    "UA.describe()"
   ]
  },
  {
   "cell_type": "code",
   "execution_count": null,
   "id": "bb685462",
   "metadata": {},
   "outputs": [],
   "source": [
    "# checking null values\n",
    "UA.isnull().sum()"
   ]
  },
  {
   "cell_type": "code",
   "execution_count": null,
   "id": "6f447adb",
   "metadata": {},
   "outputs": [],
   "source": [
    "# renaming columns\n",
    "UA.columns = ['State','Date','Frequency','Unemployment Rate','Employed','Labour Participation Rate','Region','Longitude','Latitude']"
   ]
  },
  {
   "cell_type": "markdown",
   "id": "38ca7fa7",
   "metadata": {},
   "source": [
    "#### 4. Data Visualization-Graphs "
   ]
  },
  {
   "cell_type": "code",
   "execution_count": null,
   "id": "7784c025",
   "metadata": {},
   "outputs": [],
   "source": [
    "#histplot for employment data\n",
    "sns.histplot(x='Employed',hue='Region',data=UA)\n",
    "plt.show()"
   ]
  },
  {
   "cell_type": "code",
   "execution_count": null,
   "id": "939a900a",
   "metadata": {},
   "outputs": [],
   "source": [
    "# histplot for unemployed data\n",
    "plt.figure(figsize=(7,5))\n",
    "plt.title('Indian Unemployment')\n",
    "sns.histplot(x='Unemployment Rate',hue='Region',data=UA)\n",
    "plt.show()"
   ]
  },
  {
   "cell_type": "code",
   "execution_count": null,
   "id": "caf5917e",
   "metadata": {},
   "outputs": [],
   "source": [
    "# sunburst chart for vizualization\n",
    "up = UA[['State','Region','Unemployment Rate']]\n",
    "figure= px.sunburst(up, path=['Region','State'], values='Unemployment Rate',width=700,height=700,color_continuous_scale='RdY1Gn',title='Unemployment Rate in India')\n",
    "figure.show()"
   ]
  },
  {
   "cell_type": "markdown",
   "id": "b2f8aefd",
   "metadata": {},
   "source": [
    "#### 5. Corelation"
   ]
  },
  {
   "cell_type": "code",
   "execution_count": null,
   "id": "2d0c561f",
   "metadata": {},
   "outputs": [],
   "source": [
    "# checking the correlation of variables\n",
    "UA.corr()"
   ]
  },
  {
   "cell_type": "code",
   "execution_count": null,
   "id": "369f1987",
   "metadata": {},
   "outputs": [],
   "source": [
    "#plotting correlation matrix\n",
    "cor= UA.corr()\n",
    "fig, ax=plt.subplots(figsize=(8,8))\n",
    "sns.heatmap(cor,annot=True,ax=ax)"
   ]
  },
  {
   "cell_type": "markdown",
   "id": "a4e8d642",
   "metadata": {},
   "source": []
  },
  {
   "cell_type": "code",
   "execution_count": null,
   "id": "25255b8e",
   "metadata": {},
   "outputs": [],
   "source": []
  },
  {
   "cell_type": "code",
   "execution_count": null,
   "id": "803552a6",
   "metadata": {},
   "outputs": [],
   "source": []
  }
 ],
 "metadata": {
  "kernelspec": {
   "display_name": "Python 3 (ipykernel)",
   "language": "python",
   "name": "python3"
  },
  "language_info": {
   "codemirror_mode": {
    "name": "ipython",
    "version": 3
   },
   "file_extension": ".py",
   "mimetype": "text/x-python",
   "name": "python",
   "nbconvert_exporter": "python",
   "pygments_lexer": "ipython3",
   "version": "3.9.7"
  }
 },
 "nbformat": 4,
 "nbformat_minor": 5
}
